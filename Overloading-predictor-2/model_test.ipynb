{
 "cells": [
  {
   "cell_type": "code",
   "execution_count": 4,
   "metadata": {},
   "outputs": [],
   "source": [
    "import pandas as pd\n",
    "import numpy as np\n",
    "from datetime import datetime, timedelta\n",
    "import requests\n",
    "from sklearn.model_selection import train_test_split\n",
    "from sklearn.ensemble import RandomForestRegressor\n",
    "from sklearn.metrics import accuracy_score, roc_auc_score, mean_squared_error\n",
    "import pickle\n",
    "import os\n"
   ]
  },
  {
   "cell_type": "code",
   "execution_count": 9,
   "metadata": {},
   "outputs": [],
   "source": [
    "# Läs in dataset med korrekta filnamn\n",
    "temp_data = pd.read_csv(\"Sheet1+ (Flera anslutningar)_Lufttemp.csv\")\n",
    "passenger_data = pd.read_csv(\"Sheet1+ (Flera anslutningar)_Passagerare.csv\")\n",
    "\n",
    "# Förbehandla temperaturdata\n",
    "temp_data['date'] = pd.to_datetime(temp_data[\"Datum (Sheet11)\"]).dt.date\n",
    "temp_data['temperature'] = temp_data['Lufttemperatur']\n",
    "        \n",
    "# Förbehandla passagerardata med tid\n",
    "passenger_data['datetime'] = pd.to_datetime(passenger_data['Tidpunkt'])\n",
    "passenger_data['hour'] = passenger_data['datetime'].dt.hour\n",
    "passenger_data['date'] = passenger_data['datetime'].dt.date\n",
    "passenger_data['passengers'] = pd.to_numeric(passenger_data['Totalt antal påstigande'], errors='coerce')\n",
    "        \n",
    "# Filtrera endast UT-resor för passagerardata\n",
    "passenger_data = passenger_data[passenger_data['Väg'] == 'UT']\n",
    "        \n",
    "# Konvertera date-kolumnerna till samma typ (datetime64[ns])\n",
    "temp_data['date'] = pd.to_datetime(temp_data['date'])\n",
    "passenger_data['date'] = pd.to_datetime(passenger_data['date'])\n",
    "        \n",
    "# Aggregera till timvisa värden per dag\n",
    "hourly_data = pd.merge(\n",
    "    temp_data.groupby('date')['temperature'].mean().reset_index(),\n",
    "    passenger_data.groupby(['date', 'hour'])['passengers'].mean().reset_index(),\n",
    "    on='date'\n",
    "    )\n",
    "\n",
    "# Hantera eventuella saknade värden\n",
    "hourly_data = hourly_data.dropna()"
   ]
  },
  {
   "cell_type": "code",
   "execution_count": 10,
   "metadata": {},
   "outputs": [],
   "source": [
    "X = hourly_data[['temperature', 'hour']]\n",
    "y = hourly_data['passengers']\n",
    "\n",
    "X_train, X_test, y_train, y_test = train_test_split(X, y, test_size=0.33, random_state=42)"
   ]
  },
  {
   "cell_type": "code",
   "execution_count": 11,
   "metadata": {},
   "outputs": [],
   "source": [
    "#Lek runt med parametrar i RandomForrest för att förbättra modelen, kolla på hemsidan för vilka parametrar som finns\n",
    "model = RandomForestRegressor(n_estimators=20000,\n",
    "                              max_depth=10,\n",
    "                              min_samples_split=5)\n",
    "\n",
    "model.fit(X_train, y_train)\n",
    "\n",
    "pred = model.predict(X_test)"
   ]
  },
  {
   "cell_type": "code",
   "execution_count": 12,
   "metadata": {},
   "outputs": [
    {
     "name": "stdout",
     "output_type": "stream",
     "text": [
      "MSE: 38.34547802244978\n"
     ]
    }
   ],
   "source": [
    "#Spottar ut Mean Squared Error av modellen, kan tänka på det som \n",
    "#hur mycket varierar modellens fel. Desto mindre desto bättre.\n",
    "print(f\"MSE: {np.sqrt(mean_squared_error(y_test, pred))}\")"
   ]
  }
 ],
 "metadata": {
  "kernelspec": {
   "display_name": "base",
   "language": "python",
   "name": "python3"
  },
  "language_info": {
   "codemirror_mode": {
    "name": "ipython",
    "version": 3
   },
   "file_extension": ".py",
   "mimetype": "text/x-python",
   "name": "python",
   "nbconvert_exporter": "python",
   "pygments_lexer": "ipython3",
   "version": "3.11.5"
  }
 },
 "nbformat": 4,
 "nbformat_minor": 2
}
